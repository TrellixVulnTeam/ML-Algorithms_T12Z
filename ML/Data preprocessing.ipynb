{
 "cells": [
  {
   "cell_type": "code",
   "execution_count": 1,
   "id": "279edc5f",
   "metadata": {},
   "outputs": [
    {
     "name": "stdout",
     "output_type": "stream",
     "text": [
      "hello world\n"
     ]
    }
   ],
   "source": [
    "print(\"hello world\")"
   ]
  },
  {
   "cell_type": "code",
   "execution_count": 29,
   "id": "e842d35f",
   "metadata": {},
   "outputs": [
    {
     "name": "stdout",
     "output_type": "stream",
     "text": [
      "[[0.0 1.0 0.0 40.0 63777.77777777778]\n",
      " [1.0 0.0 0.0 37.0 67000.0]\n",
      " [0.0 0.0 1.0 27.0 48000.0]\n",
      " [0.0 0.0 1.0 38.77777777777778 52000.0]\n",
      " [1.0 0.0 0.0 48.0 79000.0]\n",
      " [0.0 0.0 1.0 38.0 61000.0]\n",
      " [1.0 0.0 0.0 44.0 72000.0]\n",
      " [1.0 0.0 0.0 35.0 58000.0]]\n",
      "[[-1.          2.64575131 -0.77459667  0.26306757  0.12381479]\n",
      " [ 1.         -0.37796447 -0.77459667 -0.25350148  0.46175632]\n",
      " [-1.         -0.37796447  1.29099445 -1.97539832 -1.53093341]\n",
      " [-1.         -0.37796447  1.29099445  0.05261351 -1.11141978]\n",
      " [ 1.         -0.37796447 -0.77459667  1.64058505  1.7202972 ]\n",
      " [-1.         -0.37796447  1.29099445 -0.0813118  -0.16751412]\n",
      " [ 1.         -0.37796447 -0.77459667  0.95182631  0.98614835]\n",
      " [ 1.         -0.37796447 -0.77459667 -0.59788085 -0.48214934]]\n"
     ]
    }
   ],
   "source": [
    "import numpy as np\n",
    "\n",
    "\n",
    "import matplotlib.pyplot as mp\n",
    "\n",
    "import pandas as pd\n",
    "\n",
    "#fetching data\n",
    "data = pd.read_csv(\"Data.csv\",encoding='utf-8')\n",
    "inp = data.iloc[:,:-1].values\n",
    "out= data.iloc[:,-1].values\n",
    "\n",
    "\n",
    "from sklearn.impute import SimpleImputer\n",
    "from sklearn.preprocessing import LabelEncoder, OneHotEncoder\n",
    "from sklearn.compose import ColumnTransformer\n",
    "\n",
    "'''\n",
    "imputer = SimpleImputer(missing_values=np.nan,strategy='mean')\n",
    "imputer = imputer.fit(inp[:,1:3])\n",
    "inp[:,1:3]=imputer.transform(inp[:,1:3])\n",
    "\n",
    "\n",
    "#encode categorical data\n",
    "\n",
    "transformer = ColumnTransformer([(\"Country\",OneHotEncoder(),[0])],remainder = 'passthrough')\n",
    "inp = transformer.fit_transform(inp)                             \n",
    "\n",
    "\n",
    "\n",
    "\n",
    "\n",
    "temp = LabelEncoder()\n",
    "temp = temp.fit_transform(out)\n",
    "out = temp\n",
    "\n",
    "\n",
    "'''\n",
    "#splitting data set into train and test\n",
    "\n",
    "from sklearn.model_selection import train_test_split\n",
    "\n",
    "inp_train,inp_test,out_train,out_test = train_test_split(inp,out,test_size = 0.2, random_state = 0)\n",
    "\n",
    "print(inp_train)\n",
    "\n",
    "from sklearn.preprocessing import StandardScaler\n",
    "SC = StandardScaler()\n",
    "inp_train = SC.fit_transform(inp_train)\n",
    "inp_test = SC.transform(inp_test)\n",
    "\n",
    "print(inp_train)\n"
   ]
  },
  {
   "cell_type": "code",
   "execution_count": null,
   "id": "d81b91a2",
   "metadata": {},
   "outputs": [],
   "source": []
  }
 ],
 "metadata": {
  "kernelspec": {
   "display_name": "Python 3 (ipykernel)",
   "language": "python",
   "name": "python3"
  },
  "language_info": {
   "codemirror_mode": {
    "name": "ipython",
    "version": 3
   },
   "file_extension": ".py",
   "mimetype": "text/x-python",
   "name": "python",
   "nbconvert_exporter": "python",
   "pygments_lexer": "ipython3",
   "version": "3.8.10"
  }
 },
 "nbformat": 4,
 "nbformat_minor": 5
}
