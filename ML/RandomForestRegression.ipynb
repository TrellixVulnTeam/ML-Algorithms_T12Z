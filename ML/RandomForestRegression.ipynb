{
 "cells": [
  {
   "cell_type": "code",
   "execution_count": 22,
   "id": "f706e87e",
   "metadata": {},
   "outputs": [],
   "source": [
    "import numpy as np\n",
    "import matplotlib.pyplot as mp\n",
    "import pandas as pd\n",
    "\n",
    "#fetching data\n",
    "data = pd.read_csv(\"Position_Salaries.csv\",encoding='utf-8')\n",
    "inp = data.iloc[:,1:2].values\n",
    "out= data.iloc[:,-1].values"
   ]
  },
  {
   "cell_type": "code",
   "execution_count": 23,
   "id": "11ef6377",
   "metadata": {},
   "outputs": [
    {
     "data": {
      "text/plain": [
       "array([160600.])"
      ]
     },
     "execution_count": 23,
     "metadata": {},
     "output_type": "execute_result"
    }
   ],
   "source": [
    "from sklearn.ensemble import RandomForestRegressor\n",
    "\n",
    "regressor = RandomForestRegressor(n_estimators=500, random_state=0)\n",
    "regressor.fit(inp,out)\n",
    "\n",
    "regressor.predict(np.array([6.5]).reshape(-1, 1))\n"
   ]
  },
  {
   "cell_type": "code",
   "execution_count": 24,
   "id": "7fe2b35d",
   "metadata": {},
   "outputs": [
    {
     "data": {
      "image/png": "[encoded data removed]",
      "text/plain": [
       "<Figure size 432x288 with 1 Axes>"
      ]
     },
     "metadata": {
      "needs_background": "light"
     },
     "output_type": "display_data"
    }
   ],
   "source": [
    "#plotting Regression\n",
    "inp_grid = np.arange(min(inp),max(inp),0.001)\n",
    "inp_grid = inp_grid.reshape(len(inp_grid),1)\n",
    "mp.scatter(inp,out,color = 'red')\n",
    "mp.plot(inp_grid,regressor.predict(inp_grid),color ='blue')\n",
    "mp.title(\"Salary vs Position_Level\")\n",
    "mp.xlabel(\"Position_Level\")\n",
    "mp.ylabel(\"Salary\")\n",
    "mp.show()"
   ]
  },
  {
   "cell_type": "code",
   "execution_count": null,
   "id": "cf908c62",
   "metadata": {},
   "outputs": [],
   "source": []
  }
 ],
 "metadata": {
  "kernelspec": {
   "display_name": "Python 3 (ipykernel)",
   "language": "python",
   "name": "python3"
  },
  "language_info": {
   "codemirror_mode": {
    "name": "ipython",
    "version": 3
   },
   "file_extension": ".py",
   "mimetype": "text/x-python",
   "name": "python",
   "nbconvert_exporter": "python",
   "pygments_lexer": "ipython3",
   "version": "3.8.10"
  }
 },
 "nbformat": 4,
 "nbformat_minor": 5
}
