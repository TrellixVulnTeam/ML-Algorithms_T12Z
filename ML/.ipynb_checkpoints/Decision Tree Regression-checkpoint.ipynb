{
 "cells": [
  {
   "cell_type": "code",
   "execution_count": 6,
   "id": "5e1f1bc9",
   "metadata": {},
   "outputs": [],
   "source": [
    "import numpy as np\n",
    "import matplotlib.pyplot as mp\n",
    "import pandas as pd\n",
    "\n",
    "#fetching data\n",
    "data = pd.read_csv(\"Position_Salaries.csv\",encoding='utf-8')\n",
    "inp = data.iloc[:,1:2].values\n",
    "out= data.iloc[:,-1].values\n"
   ]
  },
  {
   "cell_type": "code",
   "execution_count": 7,
   "id": "4ac400ef",
   "metadata": {},
   "outputs": [
    {
     "data": {
      "text/plain": [
       "DecisionTreeRegressor(random_state=0)"
      ]
     },
     "execution_count": 7,
     "metadata": {},
     "output_type": "execute_result"
    }
   ],
   "source": [
    "from sklearn.tree import DecisionTreeRegressor\n",
    "\n",
    "regressor = DecisionTreeRegressor(random_state = 0)\n",
    "regressor.fit(inp,out)"
   ]
  },
  {
   "cell_type": "code",
   "execution_count": 8,
   "id": "6efe1a06",
   "metadata": {},
   "outputs": [
    {
     "data": {
      "image/png": "[encoded data removed]",
      "text/plain": [
       "<Figure size 432x288 with 1 Axes>"
      ]
     },
     "metadata": {
      "needs_background": "light"
     },
     "output_type": "display_data"
    }
   ],
   "source": [
    "#plotting Regression\n",
    "inp_grid = np.arange(min(inp),max(inp),0.1)\n",
    "inp_grid = inp_grid.reshape(len(inp_grid),1)\n",
    "mp.scatter(inp,out,color = 'red')\n",
    "mp.plot(inp_grid,regressor.predict(inp_grid),color ='blue')\n",
    "mp.title(\"Salary vs Position_Level\")\n",
    "mp.xlabel(\"Position_Level\")\n",
    "mp.ylabel(\"Salary\")\n",
    "mp.show()"
   ]
  },
  {
   "cell_type": "code",
   "execution_count": null,
   "id": "933e1fd1",
   "metadata": {},
   "outputs": [],
   "source": []
  }
 ],
 "metadata": {
  "kernelspec": {
   "display_name": "Python 3 (ipykernel)",
   "language": "python",
   "name": "python3"
  },
  "language_info": {
   "codemirror_mode": {
    "name": "ipython",
    "version": 3
   },
   "file_extension": ".py",
   "mimetype": "text/x-python",
   "name": "python",
   "nbconvert_exporter": "python",
   "pygments_lexer": "ipython3",
   "version": "3.8.10"
  }
 },
 "nbformat": 4,
 "nbformat_minor": 5
}
